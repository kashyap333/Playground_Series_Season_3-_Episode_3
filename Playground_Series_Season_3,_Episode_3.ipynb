{
  "nbformat": 4,
  "nbformat_minor": 0,
  "metadata": {
    "colab": {
      "provenance": [],
      "authorship_tag": "ABX9TyNvrqMIMver+P6bIkLaI23l",
      "include_colab_link": true
    },
    "kernelspec": {
      "name": "python3",
      "display_name": "Python 3"
    },
    "language_info": {
      "name": "python"
    },
    "gpuClass": "standard"
  },
  "cells": [
    {
      "cell_type": "markdown",
      "metadata": {
        "id": "view-in-github",
        "colab_type": "text"
      },
      "source": [
        "<a href=\"https://colab.research.google.com/github/kashyap333/Playground_Series_Season_3-_Episode_3/blob/main/Playground_Series_Season_3%2C_Episode_3.ipynb\" target=\"_parent\"><img src=\"https://colab.research.google.com/assets/colab-badge.svg\" alt=\"Open In Colab\"/></a>"
      ]
    },
    {
      "cell_type": "code",
      "execution_count": null,
      "metadata": {
        "id": "oZAnl8YcbTK1",
        "colab": {
          "base_uri": "https://localhost:8080/"
        },
        "outputId": "caebe6b5-5c5f-4d86-db0f-8e75f2b1177b"
      },
      "outputs": [
        {
          "output_type": "stream",
          "name": "stdout",
          "text": [
            "mkdir: cannot create directory ‘/root/.kaggle’: File exists\n"
          ]
        }
      ],
      "source": [
        "!pip install kaggle\n",
        "!mkdir ~/.kaggle\n",
        "!cp kaggle.json ~/.kaggle/kaggle.json\n",
        "!chmod 600 /root/.kaggle/kaggle.json"
      ]
    },
    {
      "cell_type": "code",
      "source": [
        "!kaggle competitions download -c playground-series-s3e3\n"
      ],
      "metadata": {
        "id": "r-cEIuBwcKwq"
      },
      "execution_count": null,
      "outputs": []
    },
    {
      "cell_type": "code",
      "source": [
        "!unzip playground-series-s3e3"
      ],
      "metadata": {
        "id": "_usdDr_Ycblg"
      },
      "execution_count": null,
      "outputs": []
    },
    {
      "cell_type": "code",
      "source": [
        "import pandas as pd\n",
        "import numpy as np\n",
        "import matplotlib.pyplot as plt\n",
        "from sklearn.metrics import roc_auc_score\n",
        "from sklearn.ensemble import AdaBoostClassifier\n",
        "from sklearn.preprocessing import StandardScaler, OrdinalEncoder, OneHotEncoder\n",
        "from sklearn.pipeline import Pipeline, make_pipeline\n",
        "from sklearn.model_selection import train_test_split\n",
        "from sklearn.model_selection import GridSearchCV\n",
        "from sklearn.gaussian_process import GaussianProcessClassifier\n",
        "from pandas import get_dummies\n",
        "import torch\n",
        "from torch import nn\n",
        "from torch.utils.data import DataLoader, Dataset, TensorDataset"
      ],
      "metadata": {
        "id": "UqdF02BicNKn"
      },
      "execution_count": null,
      "outputs": []
    },
    {
      "cell_type": "code",
      "source": [
        "train = pd.read_csv('train.csv')\n",
        "test = pd.read_csv('test.csv')"
      ],
      "metadata": {
        "id": "Z4tj8KLMcVpO"
      },
      "execution_count": null,
      "outputs": []
    },
    {
      "cell_type": "code",
      "source": [
        "train.head()"
      ],
      "metadata": {
        "id": "LCYppeI0ckMc"
      },
      "execution_count": null,
      "outputs": []
    },
    {
      "cell_type": "code",
      "source": [
        "train.info()"
      ],
      "metadata": {
        "id": "ZClyLFtecozN"
      },
      "execution_count": null,
      "outputs": []
    },
    {
      "cell_type": "code",
      "source": [
        "train.select_dtypes(include='object').columns"
      ],
      "metadata": {
        "id": "xqkDE7Grc0-H"
      },
      "execution_count": null,
      "outputs": []
    },
    {
      "cell_type": "code",
      "source": [
        "train.select_dtypes(include='int').columns"
      ],
      "metadata": {
        "id": "2mK42MgHY1zh"
      },
      "execution_count": null,
      "outputs": []
    },
    {
      "cell_type": "code",
      "source": [
        "y_train = train['Attrition']\n",
        "X = train.drop('Attrition', axis=1)"
      ],
      "metadata": {
        "id": "lVBCf-iZb6Ao"
      },
      "execution_count": null,
      "outputs": []
    },
    {
      "cell_type": "code",
      "source": [
        "def preprocessing(data):\n",
        "  'Pass dataframe with no Attrition column'\n",
        "\n",
        "  data.drop('id', axis=1, inplace = True)\n",
        "  for col in data.columns:\n",
        "    if len(data[col].unique()) < 2:\n",
        "      data.drop(col, axis=1, inplace = True)\n",
        "\n",
        "  data = pd.get_dummies(data)\n",
        "  X = pd.DataFrame(StandardScaler().fit_transform(data), index=data.index, columns=data.columns)\n",
        "      \n",
        "  return X\n",
        "  "
      ],
      "metadata": {
        "id": "Z5YJn4hMM7At"
      },
      "execution_count": null,
      "outputs": []
    },
    {
      "cell_type": "code",
      "source": [
        "X_train = preprocessing(X)\n",
        "X_test = preprocessing(test)"
      ],
      "metadata": {
        "id": "Dz3VZ19tMqAc"
      },
      "execution_count": null,
      "outputs": []
    },
    {
      "cell_type": "code",
      "source": [
        "X_train.shape, X_test.shape, y_train.shape"
      ],
      "metadata": {
        "colab": {
          "base_uri": "https://localhost:8080/"
        },
        "id": "5-TaOPELeoL9",
        "outputId": "b16a8c3b-b399-4302-ea17-3a9f2feb0cfa"
      },
      "execution_count": null,
      "outputs": [
        {
          "output_type": "execute_result",
          "data": {
            "text/plain": [
              "((1677, 51), (1119, 51), (1677,))"
            ]
          },
          "metadata": {},
          "execution_count": 129
        }
      ]
    },
    {
      "cell_type": "code",
      "source": [
        "device = (torch.device('cuda') if torch.cuda.is_available() else torch.device('cpu'))"
      ],
      "metadata": {
        "id": "gnhn2XINez82"
      },
      "execution_count": null,
      "outputs": []
    },
    {
      "cell_type": "code",
      "source": [
        "class train(Dataset):\n",
        "  def __init__(self, X_train, y_train):\n",
        "\n",
        "    self.X_train = torch.from_numpy(X_train.values.astype(np.float32))\n",
        "    self.y_train = torch.from_numpy(y_train.values.astype(np.float32))\n",
        "\n",
        "  def __len__(self):\n",
        "    return len(self.X_train)\n",
        "\n",
        "  def __getitem__(self, id):\n",
        "    return self.X_train[id], self.y_train[id]\n"
      ],
      "metadata": {
        "id": "WnIoXD2PfTKL"
      },
      "execution_count": null,
      "outputs": []
    },
    {
      "cell_type": "code",
      "source": [
        "class aug_test(Dataset):\n",
        "  def __init__(self, x_test):\n",
        "    \n",
        "    self.X_test = torch.from_numpy(x_test.values.astype(np.float32))\n",
        "  \n",
        "\n",
        "  def __len__(self):\n",
        "    return len(self.X_test)\n",
        "\n",
        "  def __getitem__(self, idx):\n",
        "    return self.X_test[idx]"
      ],
      "metadata": {
        "id": "rSvOqzt9q-RQ"
      },
      "execution_count": null,
      "outputs": []
    },
    {
      "cell_type": "code",
      "source": [
        "X = train(X_train, y_train)"
      ],
      "metadata": {
        "id": "ZQFPWdzkgfbd"
      },
      "execution_count": null,
      "outputs": []
    },
    {
      "cell_type": "code",
      "source": [
        "X_test = aug_test(X_test)"
      ],
      "metadata": {
        "id": "aEBvHRuirE7V"
      },
      "execution_count": null,
      "outputs": []
    },
    {
      "cell_type": "code",
      "source": [
        "X_dataloader = DataLoader(X, batch_size=32, shuffle=True)"
      ],
      "metadata": {
        "id": "P54WrXg6hGd8"
      },
      "execution_count": null,
      "outputs": []
    },
    {
      "cell_type": "code",
      "source": [
        "test_dataloader = DataLoader(X_test, batch_size=32)"
      ],
      "metadata": {
        "id": "j_zfDipRq1yP"
      },
      "execution_count": null,
      "outputs": []
    },
    {
      "cell_type": "code",
      "source": [
        "data, label = next(iter(X_dataloader))\n",
        "data[0], label[0]"
      ],
      "metadata": {
        "colab": {
          "base_uri": "https://localhost:8080/"
        },
        "id": "hYSkhZfZhCTY",
        "outputId": "3bfdfbfb-c5db-483b-807d-7f7f9ac0a19f"
      },
      "execution_count": null,
      "outputs": [
        {
          "output_type": "execute_result",
          "data": {
            "text/plain": [
              "(tensor([-0.0043,  1.5339, -0.9821,  1.0224,  1.1432, -0.2984,  0.3346, -0.9225,\n",
              "          1.1012, -0.8786, -1.4222, -1.0385, -0.2642, -0.3825,  1.1588,  0.3612,\n",
              "         -0.6493,  0.2333,  0.3555, -0.3072, -0.3194, -0.3214, -0.8913, -0.2850,\n",
              "         -0.4293,  0.5477, -0.1543,  0.6611, -0.6249, -0.0884, -0.9269, -0.3157,\n",
              "          1.4334, -0.2267, -0.2598, -0.7590,  0.7590, -0.3191, -0.1439, -0.4987,\n",
              "         -0.2662, -0.3638, -0.2103,  1.9685, -0.5182, -0.2194, -0.4922,  1.0814,\n",
              "         -0.7243,  0.5597, -0.5597]), tensor(0.))"
            ]
          },
          "metadata": {},
          "execution_count": 51
        }
      ]
    },
    {
      "cell_type": "code",
      "source": [
        "class Model(nn.Module):\n",
        "  def __init__(self):\n",
        "    super().__init__()\n",
        "\n",
        "    self.layer1 = nn.Linear(in_features=51, out_features=128)\n",
        "    self.layer2 = nn.Linear(in_features=128, out_features=96)\n",
        "    self.layer3 = nn.Linear(in_features=96, out_features=64)\n",
        "    self.layer4 = nn.Linear(in_features=64, out_features=32)\n",
        "    self.layer5 = nn.Linear(in_features=32, out_features=16)\n",
        "    self.layer6 = nn.Linear(in_features=16, out_features=1)\n",
        "\n",
        "    self.relu = nn.ReLU()\n",
        "    self.batch_norm1 = nn.BatchNorm1d(128)\n",
        "    self.batch_norm2 = nn.BatchNorm1d(96) \n",
        "    self.batch_norm3 = nn.BatchNorm1d(64) \n",
        "    self.batch_norm4 = nn.BatchNorm1d(32)\n",
        "    self.batch_norm5 = nn.BatchNorm1d(16)\n",
        "     \n",
        "\n",
        "  def forward(self, x: torch.tensor):\n",
        "\n",
        "    x = self.relu(self.batch_norm1(self.layer1(x)))\n",
        "    x = self.relu(self.batch_norm2(self.layer2(x)))\n",
        "    x = self.relu(self.batch_norm3(self.layer3(x)))\n",
        "    x = self.relu(self.batch_norm4(self.layer4(x)))\n",
        "    x = self.relu(self.batch_norm5(self.layer5(x)))\n",
        "    x = self.layer6(x)\n",
        "\n",
        "    return x\n",
        "\n",
        "torch.manual_seed(42)\n",
        "\n",
        "model = Model()\n",
        "#model, model.state_dict()\n"
      ],
      "metadata": {
        "id": "ZzmjUOLIjIG3"
      },
      "execution_count": null,
      "outputs": []
    },
    {
      "cell_type": "code",
      "source": [
        "model.to(device)\n",
        "next(model.parameters()).device"
      ],
      "metadata": {
        "colab": {
          "base_uri": "https://localhost:8080/"
        },
        "id": "Gtr9VPolmvfZ",
        "outputId": "20932d09-8722-4435-dd69-85a5ab83662a"
      },
      "execution_count": null,
      "outputs": [
        {
          "output_type": "execute_result",
          "data": {
            "text/plain": [
              "device(type='cpu')"
            ]
          },
          "metadata": {},
          "execution_count": 138
        }
      ]
    },
    {
      "cell_type": "code",
      "source": [
        "loss_fn = nn.SmoothL1Loss()\n",
        "optimizer = torch.optim.SGD(model.parameters(), lr=0.001, momentum=0.9)"
      ],
      "metadata": {
        "id": "PfErm1IDnEEC"
      },
      "execution_count": null,
      "outputs": []
    },
    {
      "cell_type": "code",
      "source": [
        "torch.manual_seed(42)\n",
        "\n",
        "loss_value = []\n",
        "epoch_no = []\n",
        "epochs = 150\n",
        "\n",
        "\n",
        "\n",
        "for epoch in range(epochs+1):\n",
        "  model.train()\n",
        "  for x_train, y_train in X_dataloader:\n",
        "    \n",
        "    x_train = x_train.to(device)\n",
        "    y_train = y_train.to(device)\n",
        "\n",
        "    y_pred = model(x_train)\n",
        "\n",
        "    loss = loss_fn(y_pred, y_train.unsqueeze(1))\n",
        "\n",
        "    optimizer.zero_grad()\n",
        "\n",
        "    loss.backward()\n",
        "\n",
        "    optimizer.step()\n",
        "\n",
        "\n",
        "\n",
        "  if epoch % 50 == 0:\n",
        "    print(f'Epoch: {epoch} | Loss: {loss}')\n",
        "    loss_value.append(loss.detach().cpu().numpy())\n",
        "    epoch_no.append(epoch)"
      ],
      "metadata": {
        "colab": {
          "base_uri": "https://localhost:8080/"
        },
        "id": "bDNX-AP7nb1k",
        "outputId": "e1a651f2-bbc7-4f3e-e7a8-d08c57fa62e6"
      },
      "execution_count": null,
      "outputs": [
        {
          "output_type": "stream",
          "name": "stdout",
          "text": [
            "Epoch: 0 | Loss: 0.03904803469777107\n",
            "Epoch: 50 | Loss: 0.0531398206949234\n",
            "Epoch: 100 | Loss: 0.02439405396580696\n",
            "Epoch: 150 | Loss: 0.013242260552942753\n"
          ]
        }
      ]
    },
    {
      "cell_type": "code",
      "source": [
        "plt.plot(epoch_no, loss_value, label=\"Train loss\")\n",
        "#plt.plot(epoch_no, loss_value, label=\"Test loss\")\n",
        "plt.title(\"Training and test loss curves\")\n",
        "plt.ylabel(\"Loss\")\n",
        "plt.xlabel(\"Epochs\")\n",
        "plt.legend();\n",
        "     "
      ],
      "metadata": {
        "colab": {
          "base_uri": "https://localhost:8080/",
          "height": 295
        },
        "id": "BPHeaLmjqunq",
        "outputId": "39503dc8-efe0-40fd-a5a1-2c1dbabbc1d7"
      },
      "execution_count": null,
      "outputs": [
        {
          "output_type": "display_data",
          "data": {
            "text/plain": [
              "<Figure size 432x288 with 1 Axes>"
            ],
            "image/png": "[encoded data removed]"
          },
          "metadata": {
            "needs_background": "light"
          }
        }
      ]
    },
    {
      "cell_type": "code",
      "source": [
        "test_loss = []\n",
        "\n",
        "model.eval()\n",
        "for x_test in test_dataloader:\n",
        "  x_test = x_test.to(device)\n",
        "  with torch.inference_mode():\n",
        "    test_pred = model(x_test)\n",
        "    test_pred_value = test_pred.cpu().numpy()\n",
        "    \n",
        "\n",
        "    test_loss.append(test_pred_value)"
      ],
      "metadata": {
        "id": "askHEyABqx_g"
      },
      "execution_count": null,
      "outputs": []
    },
    {
      "cell_type": "code",
      "source": [
        "final_probs = [item for sublist in test_loss for item in sublist]\n",
        "\n",
        "     \n",
        "\n",
        "result = []\n",
        "for i in range(len(final_probs)):\n",
        "  result.append(final_probs[i][0])"
      ],
      "metadata": {
        "id": "1n8uZoX5rbaQ"
      },
      "execution_count": null,
      "outputs": []
    },
    {
      "cell_type": "code",
      "source": [
        "test = pd.read_csv('test.csv')\n",
        "results = pd.DataFrame(test.id)\n",
        "results['Attrition'] = result\n",
        "result = results.to_csv('result.csv', index=False)"
      ],
      "metadata": {
        "id": "l3TcAtS5rjyk"
      },
      "execution_count": null,
      "outputs": []
    },
    {
      "cell_type": "code",
      "source": [
        "!kaggle competitions submit -c playground-series-s3e3 -f result.csv -m \"Pytorch\""
      ],
      "metadata": {
        "colab": {
          "base_uri": "https://localhost:8080/"
        },
        "id": "z4WaEmvgr8wG",
        "outputId": "6cd97a1d-66b5-4cee-87d2-1863703884ec"
      },
      "execution_count": null,
      "outputs": [
        {
          "output_type": "stream",
          "name": "stdout",
          "text": [
            "100% 18.4k/18.4k [00:02<00:00, 9.16kB/s]\n",
            "Successfully submitted to Playground Series Season 3, Episode 3"
          ]
        }
      ]
    },
    {
      "cell_type": "markdown",
      "source": [],
      "metadata": {
        "id": "5NE68AGxr8pF"
      }
    },
    {
      "cell_type": "markdown",
      "source": [
        "###Encoding"
      ],
      "metadata": {
        "id": "ulco_2j0t1Tn"
      }
    },
    {
      "cell_type": "code",
      "source": [
        "X_train, X_test, y_train, y_test = train_test_split(train_data, train_target, test_size = 0.1, random_state=42)"
      ],
      "metadata": {
        "id": "Jg-Koh9V6QBE"
      },
      "execution_count": null,
      "outputs": []
    },
    {
      "cell_type": "code",
      "source": [
        "Gaussian = GaussianProcessClassifier(random_state=0).fit(X_train, y)"
      ],
      "metadata": {
        "id": "A2qGBDwDuXJe"
      },
      "execution_count": null,
      "outputs": []
    },
    {
      "cell_type": "code",
      "source": [
        "Gaussian.score(X_train, y)"
      ],
      "metadata": {
        "colab": {
          "base_uri": "https://localhost:8080/"
        },
        "id": "_pRDpwMy7u-1",
        "outputId": "de9754b5-120e-4c95-8d33-7d932eb7134b"
      },
      "execution_count": null,
      "outputs": [
        {
          "output_type": "execute_result",
          "data": {
            "text/plain": [
              "1.0"
            ]
          },
          "metadata": {},
          "execution_count": 71
        }
      ]
    },
    {
      "cell_type": "code",
      "source": [
        "y_pred = Gaussian.predict_proba(y_train)"
      ],
      "metadata": {
        "id": "xf1dF039MPeJ"
      },
      "execution_count": null,
      "outputs": []
    },
    {
      "cell_type": "code",
      "source": [
        "y_pred[:, 0]"
      ],
      "metadata": {
        "colab": {
          "base_uri": "https://localhost:8080/"
        },
        "id": "ZTLwFqMaMRjE",
        "outputId": "84d81140-2515-4d57-a626-b7d98f41738b"
      },
      "execution_count": null,
      "outputs": [
        {
          "output_type": "execute_result",
          "data": {
            "text/plain": [
              "array([0.50000044, 0.50014063, 0.50000023, ..., 0.50000008, 0.50000001,\n",
              "       0.50000001])"
            ]
          },
          "metadata": {},
          "execution_count": 73
        }
      ]
    },
    {
      "cell_type": "code",
      "source": [
        "result = pd.concat([pd.DataFrame(test['id']), pd.DataFrame(y_pred[:, 0])], axis=1)\n",
        "result = result.rename(columns = {0: 'Attrition'})"
      ],
      "metadata": {
        "id": "D0j2kKIcheuJ"
      },
      "execution_count": null,
      "outputs": []
    },
    {
      "cell_type": "code",
      "source": [
        "result"
      ],
      "metadata": {
        "colab": {
          "base_uri": "https://localhost:8080/",
          "height": 424
        },
        "id": "Xdf7EYXnkaCf",
        "outputId": "3f666bc1-9fa1-418f-a108-209ad4002721"
      },
      "execution_count": null,
      "outputs": [
        {
          "output_type": "execute_result",
          "data": {
            "text/plain": [
              "        id  Attrition\n",
              "0     1677   0.500015\n",
              "1     1678   0.500327\n",
              "2     1679   0.500026\n",
              "3     1680   0.500129\n",
              "4     1681   0.500285\n",
              "...    ...        ...\n",
              "1114  2791   0.500002\n",
              "1115  2792   0.500015\n",
              "1116  2793   0.500060\n",
              "1117  2794   0.500043\n",
              "1118  2795   0.500030\n",
              "\n",
              "[1119 rows x 2 columns]"
            ],
            "text/html": [
              "\n",
              "  <div id=\"df-891633a4-a366-49f0-83f0-9fe984d35cd7\">\n",
              "    <div class=\"colab-df-container\">\n",
              "      <div>\n",
              "<style scoped>\n",
              "    .dataframe tbody tr th:only-of-type {\n",
              "        vertical-align: middle;\n",
              "    }\n",
              "\n",
              "    .dataframe tbody tr th {\n",
              "        vertical-align: top;\n",
              "    }\n",
              "\n",
              "    .dataframe thead th {\n",
              "        text-align: right;\n",
              "    }\n",
              "</style>\n",
              "<table border=\"1\" class=\"dataframe\">\n",
              "  <thead>\n",
              "    <tr style=\"text-align: right;\">\n",
              "      <th></th>\n",
              "      <th>id</th>\n",
              "      <th>Attrition</th>\n",
              "    </tr>\n",
              "  </thead>\n",
              "  <tbody>\n",
              "    <tr>\n",
              "      <th>0</th>\n",
              "      <td>1677</td>\n",
              "      <td>0.500015</td>\n",
              "    </tr>\n",
              "    <tr>\n",
              "      <th>1</th>\n",
              "      <td>1678</td>\n",
              "      <td>0.500327</td>\n",
              "    </tr>\n",
              "    <tr>\n",
              "      <th>2</th>\n",
              "      <td>1679</td>\n",
              "      <td>0.500026</td>\n",
              "    </tr>\n",
              "    <tr>\n",
              "      <th>3</th>\n",
              "      <td>1680</td>\n",
              "      <td>0.500129</td>\n",
              "    </tr>\n",
              "    <tr>\n",
              "      <th>4</th>\n",
              "      <td>1681</td>\n",
              "      <td>0.500285</td>\n",
              "    </tr>\n",
              "    <tr>\n",
              "      <th>...</th>\n",
              "      <td>...</td>\n",
              "      <td>...</td>\n",
              "    </tr>\n",
              "    <tr>\n",
              "      <th>1114</th>\n",
              "      <td>2791</td>\n",
              "      <td>0.500002</td>\n",
              "    </tr>\n",
              "    <tr>\n",
              "      <th>1115</th>\n",
              "      <td>2792</td>\n",
              "      <td>0.500015</td>\n",
              "    </tr>\n",
              "    <tr>\n",
              "      <th>1116</th>\n",
              "      <td>2793</td>\n",
              "      <td>0.500060</td>\n",
              "    </tr>\n",
              "    <tr>\n",
              "      <th>1117</th>\n",
              "      <td>2794</td>\n",
              "      <td>0.500043</td>\n",
              "    </tr>\n",
              "    <tr>\n",
              "      <th>1118</th>\n",
              "      <td>2795</td>\n",
              "      <td>0.500030</td>\n",
              "    </tr>\n",
              "  </tbody>\n",
              "</table>\n",
              "<p>1119 rows × 2 columns</p>\n",
              "</div>\n",
              "      <button class=\"colab-df-convert\" onclick=\"convertToInteractive('df-891633a4-a366-49f0-83f0-9fe984d35cd7')\"\n",
              "              title=\"Convert this dataframe to an interactive table.\"\n",
              "              style=\"display:none;\">\n",
              "        \n",
              "  <svg xmlns=\"http://www.w3.org/2000/svg\" height=\"24px\"viewBox=\"0 0 24 24\"\n",
              "       width=\"24px\">\n",
              "    <path d=\"M0 0h24v24H0V0z\" fill=\"none\"/>\n",
              "    <path d=\"M18.56 5.44l.94 2.06.94-2.06 2.06-.94-2.06-.94-.94-2.06-.94 2.06-2.06.94zm-11 1L8.5 8.5l.94-2.06 2.06-.94-2.06-.94L8.5 2.5l-.94 2.06-2.06.94zm10 10l.94 2.06.94-2.06 2.06-.94-2.06-.94-.94-2.06-.94 2.06-2.06.94z\"/><path d=\"M17.41 7.96l-1.37-1.37c-.4-.4-.92-.59-1.43-.59-.52 0-1.04.2-1.43.59L10.3 9.45l-7.72 7.72c-.78.78-.78 2.05 0 2.83L4 21.41c.39.39.9.59 1.41.59.51 0 1.02-.2 1.41-.59l7.78-7.78 2.81-2.81c.8-.78.8-2.07 0-2.86zM5.41 20L4 18.59l7.72-7.72 1.47 1.35L5.41 20z\"/>\n",
              "  </svg>\n",
              "      </button>\n",
              "      \n",
              "  <style>\n",
              "    .colab-df-container {\n",
              "      display:flex;\n",
              "      flex-wrap:wrap;\n",
              "      gap: 12px;\n",
              "    }\n",
              "\n",
              "    .colab-df-convert {\n",
              "      background-color: #E8F0FE;\n",
              "      border: none;\n",
              "      border-radius: 50%;\n",
              "      cursor: pointer;\n",
              "      display: none;\n",
              "      fill: #1967D2;\n",
              "      height: 32px;\n",
              "      padding: 0 0 0 0;\n",
              "      width: 32px;\n",
              "    }\n",
              "\n",
              "    .colab-df-convert:hover {\n",
              "      background-color: #E2EBFA;\n",
              "      box-shadow: 0px 1px 2px rgba(60, 64, 67, 0.3), 0px 1px 3px 1px rgba(60, 64, 67, 0.15);\n",
              "      fill: #174EA6;\n",
              "    }\n",
              "\n",
              "    [theme=dark] .colab-df-convert {\n",
              "      background-color: #3B4455;\n",
              "      fill: #D2E3FC;\n",
              "    }\n",
              "\n",
              "    [theme=dark] .colab-df-convert:hover {\n",
              "      background-color: #434B5C;\n",
              "      box-shadow: 0px 1px 3px 1px rgba(0, 0, 0, 0.15);\n",
              "      filter: drop-shadow(0px 1px 2px rgba(0, 0, 0, 0.3));\n",
              "      fill: #FFFFFF;\n",
              "    }\n",
              "  </style>\n",
              "\n",
              "      <script>\n",
              "        const buttonEl =\n",
              "          document.querySelector('#df-891633a4-a366-49f0-83f0-9fe984d35cd7 button.colab-df-convert');\n",
              "        buttonEl.style.display =\n",
              "          google.colab.kernel.accessAllowed ? 'block' : 'none';\n",
              "\n",
              "        async function convertToInteractive(key) {\n",
              "          const element = document.querySelector('#df-891633a4-a366-49f0-83f0-9fe984d35cd7');\n",
              "          const dataTable =\n",
              "            await google.colab.kernel.invokeFunction('convertToInteractive',\n",
              "                                                     [key], {});\n",
              "          if (!dataTable) return;\n",
              "\n",
              "          const docLinkHtml = 'Like what you see? Visit the ' +\n",
              "            '<a target=\"_blank\" href=https://colab.research.google.com/notebooks/data_table.ipynb>data table notebook</a>'\n",
              "            + ' to learn more about interactive tables.';\n",
              "          element.innerHTML = '';\n",
              "          dataTable['output_type'] = 'display_data';\n",
              "          await google.colab.output.renderOutput(dataTable, element);\n",
              "          const docLink = document.createElement('div');\n",
              "          docLink.innerHTML = docLinkHtml;\n",
              "          element.appendChild(docLink);\n",
              "        }\n",
              "      </script>\n",
              "    </div>\n",
              "  </div>\n",
              "  "
            ]
          },
          "metadata": {},
          "execution_count": 221
        }
      ]
    },
    {
      "cell_type": "code",
      "source": [
        "result.to_csv('result.csv', index=False)"
      ],
      "metadata": {
        "id": "t4c5m_agh0Lc"
      },
      "execution_count": null,
      "outputs": []
    },
    {
      "cell_type": "code",
      "source": [
        "!kaggle competitions submit playground-series-s3e3 -f result.csv -m \"My submission_1\""
      ],
      "metadata": {
        "colab": {
          "base_uri": "https://localhost:8080/"
        },
        "id": "7cdQuYqnie6m",
        "outputId": "3f13173a-bbed-41c9-d13b-c4698bdda0a3"
      },
      "execution_count": null,
      "outputs": [
        {
          "output_type": "stream",
          "name": "stdout",
          "text": [
            "\r  0% 0.00/26.1k [00:00<?, ?B/s]\r100% 26.1k/26.1k [00:00<00:00, 136kB/s]\n",
            "Successfully submitted to Playground Series Season 3, Episode 3"
          ]
        }
      ]
    },
    {
      "cell_type": "code",
      "source": [],
      "metadata": {
        "id": "kd0XxbfEjvjS"
      },
      "execution_count": null,
      "outputs": []
    }
  ]
}