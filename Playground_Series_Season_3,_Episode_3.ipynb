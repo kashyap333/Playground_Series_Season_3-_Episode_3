{
  "nbformat": 4,
  "nbformat_minor": 0,
  "metadata": {
    "colab": {
      "provenance": [],
      "authorship_tag": "ABX9TyPupj6BjN7/8l4XXiC+W8zv",
      "include_colab_link": true
    },
    "kernelspec": {
      "name": "python3",
      "display_name": "Python 3"
    },
    "language_info": {
      "name": "python"
    },
    "gpuClass": "standard"
  },
  "cells": [
    {
      "cell_type": "markdown",
      "metadata": {
        "id": "view-in-github",
        "colab_type": "text"
      },
      "source": [
        "<a href=\"https://colab.research.google.com/github/kashyap333/Playground_Series_Season_3-_Episode_3/blob/main/Playground_Series_Season_3%2C_Episode_3.ipynb\" target=\"_parent\"><img src=\"https://colab.research.google.com/assets/colab-badge.svg\" alt=\"Open In Colab\"/></a>"
      ]
    },
    {
      "cell_type": "code",
      "execution_count": 1,
      "metadata": {
        "id": "oZAnl8YcbTK1"
      },
      "outputs": [],
      "source": [
        "!pip install kaggle\n",
        "!mkdir ~/.kaggle\n",
        "!cp kaggle.json ~/.kaggle/kaggle.json\n",
        "!chmod 600 /root/.kaggle/kaggle.json"
      ]
    },
    {
      "cell_type": "code",
      "source": [
        "!kaggle competitions download -c playground-series-s3e3\n"
      ],
      "metadata": {
        "id": "r-cEIuBwcKwq"
      },
      "execution_count": null,
      "outputs": []
    },
    {
      "cell_type": "code",
      "source": [
        "!unzip playground-series-s3e3"
      ],
      "metadata": {
        "id": "_usdDr_Ycblg"
      },
      "execution_count": null,
      "outputs": []
    },
    {
      "cell_type": "code",
      "source": [
        "import pandas as pd\n",
        "import numpy as np\n",
        "import matplotlib.pyplot as plt\n",
        "from sklearn.metrics import roc_auc_score\n",
        "from sklearn.ensemble import AdaBoostClassifier\n",
        "from sklearn.preprocessing import StandardScaler, OrdinalEncoder, OneHotEncoder\n",
        "from sklearn.pipeline import Pipeline, make_pipeline\n",
        "from sklearn.model_selection import train_test_split\n",
        "from sklearn.model_selection import GridSearchCV\n",
        "from sklearn.gaussian_process import GaussianProcessClassifier\n",
        "from pandas import get_dummies\n",
        "import torch\n",
        "from torch import nn\n",
        "from torch.utils.data import DataLoader, Dataset, TensorDataset"
      ],
      "metadata": {
        "id": "UqdF02BicNKn"
      },
      "execution_count": 4,
      "outputs": []
    },
    {
      "cell_type": "code",
      "source": [
        "train = pd.read_csv('train.csv')\n",
        "test = pd.read_csv('test.csv')"
      ],
      "metadata": {
        "id": "Z4tj8KLMcVpO"
      },
      "execution_count": 57,
      "outputs": []
    },
    {
      "cell_type": "code",
      "source": [
        "train.head()"
      ],
      "metadata": {
        "id": "LCYppeI0ckMc"
      },
      "execution_count": null,
      "outputs": []
    },
    {
      "cell_type": "code",
      "source": [
        "train.info()"
      ],
      "metadata": {
        "id": "ZClyLFtecozN"
      },
      "execution_count": null,
      "outputs": []
    },
    {
      "cell_type": "code",
      "source": [
        "train.select_dtypes(include='object').columns"
      ],
      "metadata": {
        "id": "xqkDE7Grc0-H"
      },
      "execution_count": null,
      "outputs": []
    },
    {
      "cell_type": "code",
      "source": [
        "train.select_dtypes(include='int').columns"
      ],
      "metadata": {
        "id": "2mK42MgHY1zh"
      },
      "execution_count": null,
      "outputs": []
    },
    {
      "cell_type": "code",
      "source": [
        "y_train = train['Attrition']\n",
        "X = train.drop('Attrition', axis=1)"
      ],
      "metadata": {
        "id": "lVBCf-iZb6Ao"
      },
      "execution_count": 58,
      "outputs": []
    },
    {
      "cell_type": "code",
      "source": [
        "def preprocessing(data):\n",
        "  'Pass dataframe with no Attrition column'\n",
        "\n",
        "  data.drop('id', axis=1, inplace = True)\n",
        "  for col in data.columns:\n",
        "    if len(data[col].unique()) < 2:\n",
        "      data.drop(col, axis=1, inplace = True)\n",
        "\n",
        "  data = pd.get_dummies(data)\n",
        "  X = pd.DataFrame(StandardScaler().fit_transform(data), index=data.index, columns=data.columns)\n",
        "      \n",
        "  return X\n",
        "  "
      ],
      "metadata": {
        "id": "Z5YJn4hMM7At"
      },
      "execution_count": 59,
      "outputs": []
    },
    {
      "cell_type": "code",
      "source": [
        "X_train = preprocessing(X)\n",
        "X_test = preprocessing(test)"
      ],
      "metadata": {
        "id": "Dz3VZ19tMqAc"
      },
      "execution_count": 60,
      "outputs": []
    },
    {
      "cell_type": "code",
      "source": [
        "X_train.shape, X_test.shape, y_train.shape"
      ],
      "metadata": {
        "colab": {
          "base_uri": "https://localhost:8080/"
        },
        "id": "5-TaOPELeoL9",
        "outputId": "3994f2cf-64e7-410e-b620-fae8341e8de3"
      },
      "execution_count": 61,
      "outputs": [
        {
          "output_type": "execute_result",
          "data": {
            "text/plain": [
              "((1677, 51), (1119, 51), (1677,))"
            ]
          },
          "metadata": {},
          "execution_count": 61
        }
      ]
    },
    {
      "cell_type": "code",
      "source": [
        "device = (torch.device('cuda') if torch.cuda.is_available() else torch.device('cpu'))"
      ],
      "metadata": {
        "id": "gnhn2XINez82"
      },
      "execution_count": 62,
      "outputs": []
    },
    {
      "cell_type": "code",
      "source": [
        "class train(Dataset):\n",
        "  def __init__(self, X_train, y_train):\n",
        "\n",
        "    self.X_train = torch.from_numpy(X_train.values.astype(np.float32))\n",
        "    self.y_train = torch.from_numpy(y_train.values.astype(np.float32))\n",
        "\n",
        "  def __len__(self):\n",
        "    return len(self.X_train)\n",
        "\n",
        "  def __getitem__(self, id):\n",
        "    return self.X_train[id], self.y_train[id]\n"
      ],
      "metadata": {
        "id": "WnIoXD2PfTKL"
      },
      "execution_count": 63,
      "outputs": []
    },
    {
      "cell_type": "code",
      "source": [
        "class aug_test(Dataset):\n",
        "  def __init__(self, x_test):\n",
        "    \n",
        "    self.X_test = torch.from_numpy(x_test.values.astype(np.float32))\n",
        "  \n",
        "\n",
        "  def __len__(self):\n",
        "    return len(self.X_test)\n",
        "\n",
        "  def __getitem__(self, idx):\n",
        "    return self.X_test[idx]"
      ],
      "metadata": {
        "id": "rSvOqzt9q-RQ"
      },
      "execution_count": 64,
      "outputs": []
    },
    {
      "cell_type": "code",
      "source": [
        "X = train(X_train, y_train)"
      ],
      "metadata": {
        "id": "ZQFPWdzkgfbd"
      },
      "execution_count": 65,
      "outputs": []
    },
    {
      "cell_type": "code",
      "source": [
        "X_test = aug_test(X_test)"
      ],
      "metadata": {
        "id": "aEBvHRuirE7V"
      },
      "execution_count": 66,
      "outputs": []
    },
    {
      "cell_type": "code",
      "source": [
        "X_dataloader = DataLoader(X, batch_size=64, shuffle=True)\n",
        "test_dataloader = DataLoader(X_test, batch_size=64)"
      ],
      "metadata": {
        "id": "P54WrXg6hGd8"
      },
      "execution_count": 67,
      "outputs": []
    },
    {
      "cell_type": "code",
      "source": [
        "data, label = next(iter(X_dataloader))\n",
        "data[0], label[0]"
      ],
      "metadata": {
        "colab": {
          "base_uri": "https://localhost:8080/"
        },
        "id": "hYSkhZfZhCTY",
        "outputId": "0b21562b-38bf-433c-e4d8-490e50a94489"
      },
      "execution_count": 68,
      "outputs": [
        {
          "output_type": "execute_result",
          "data": {
            "text/plain": [
              "(tensor([-0.9450,  1.1759,  1.9576,  0.0597, -0.6976, -0.4528, -1.2027, -0.9225,\n",
              "          0.1897, -0.8038, -0.7975, -0.6351,  2.3676,  2.6147,  1.1588,  0.3612,\n",
              "         -1.3387, -0.6401,  0.3555, -0.9873, -0.8777, -0.6498, -1.1710, -0.2850,\n",
              "         -0.4293,  0.5477, -0.1543,  0.6611, -0.6249, -0.0884, -0.9269, -0.3157,\n",
              "         -0.6976,  4.4104, -0.2598, -0.7590,  0.7590, -0.3191, -0.1439, -0.4987,\n",
              "         -0.2662, -0.3638, -0.2103,  1.9685, -0.5182, -0.2194,  2.0319, -0.9247,\n",
              "         -0.7243, -1.7868,  1.7868]), tensor(1.))"
            ]
          },
          "metadata": {},
          "execution_count": 68
        }
      ]
    },
    {
      "cell_type": "code",
      "source": [
        "class Model(nn.Module):\n",
        "  def __init__(self):\n",
        "    super().__init__()\n",
        "\n",
        "    self.layer1 = nn.Linear(in_features=51, out_features=128)\n",
        "    self.layer2 = nn.Linear(in_features=128, out_features=96)\n",
        "    self.layer3 = nn.Linear(in_features=96, out_features=64)\n",
        "    self.layer4 = nn.Linear(in_features=64, out_features=32)\n",
        "    self.layer5 = nn.Linear(in_features=32, out_features=16)\n",
        "    self.layer6 = nn.Linear(in_features=16, out_features=1)\n",
        "\n",
        "    self.relu = nn.LeakyReLU()\n",
        "    self.batch_norm1 = nn.BatchNorm1d(128)\n",
        "    self.batch_norm2 = nn.BatchNorm1d(96) \n",
        "    self.batch_norm3 = nn.BatchNorm1d(64) \n",
        "    self.batch_norm4 = nn.BatchNorm1d(32)\n",
        "    self.batch_norm5 = nn.BatchNorm1d(16)\n",
        "    self.sigmoid = nn.Sigmoid()\n",
        "    self.drop = nn.Dropout1d(p=0.5)\n",
        "     \n",
        "\n",
        "  def forward(self, x: torch.tensor):\n",
        "\n",
        "    x = self.batch_norm1(self.layer1(x))\n",
        "    x = self.batch_norm2(self.layer2(x))\n",
        "    x = self.drop(x)\n",
        "    x = self.batch_norm3(self.layer3(x))\n",
        "    x = self.batch_norm4(self.layer4(x))\n",
        "    x = self.drop(x)\n",
        "    x = self.relu(self.batch_norm5(self.layer5(x)))\n",
        "    x = self.sigmoid(self.layer6(x))\n",
        "\n",
        "    return x\n",
        "\n",
        "torch.manual_seed(42)\n",
        "\n",
        "model = Model()\n",
        "#model, model.state_dict()\n"
      ],
      "metadata": {
        "id": "ZzmjUOLIjIG3"
      },
      "execution_count": 97,
      "outputs": []
    },
    {
      "cell_type": "code",
      "source": [
        "model.to(device)\n",
        "next(model.parameters()).device"
      ],
      "metadata": {
        "colab": {
          "base_uri": "https://localhost:8080/"
        },
        "id": "Gtr9VPolmvfZ",
        "outputId": "6c78ec8e-6619-4719-d887-8526a21ddd8b"
      },
      "execution_count": 98,
      "outputs": [
        {
          "output_type": "execute_result",
          "data": {
            "text/plain": [
              "device(type='cpu')"
            ]
          },
          "metadata": {},
          "execution_count": 98
        }
      ]
    },
    {
      "cell_type": "code",
      "source": [
        "loss_fn = nn.CrossEntropyLoss()\n",
        "optimizer = torch.optim.Adam(model.parameters(), lr=0.0001)"
      ],
      "metadata": {
        "id": "PfErm1IDnEEC"
      },
      "execution_count": 104,
      "outputs": []
    },
    {
      "cell_type": "code",
      "source": [
        "torch.manual_seed(42)\n",
        "\n",
        "loss_value = []\n",
        "epoch_no = []\n",
        "epochs = 500\n",
        "\n",
        "\n",
        "\n",
        "for epoch in range(epochs+1):\n",
        "  model.train()\n",
        "  for x_train, y_train in X_dataloader:\n",
        "    \n",
        "    x_train = x_train.to(device)\n",
        "    y_train = y_train.to(device)\n",
        "\n",
        "    y_pred = model(x_train)\n",
        "\n",
        "    loss = loss_fn(y_pred, y_train.unsqueeze(1))\n",
        "\n",
        "    optimizer.zero_grad()\n",
        "\n",
        "    loss.backward()\n",
        "\n",
        "    optimizer.step()\n",
        "\n",
        "\n",
        "\n",
        "  if epoch % 50 == 0:\n",
        "    print(f'Epoch: {epoch} | Loss: {loss}')\n",
        "    loss_value.append(loss.detach().cpu().numpy())\n",
        "    epoch_no.append(epoch)"
      ],
      "metadata": {
        "colab": {
          "base_uri": "https://localhost:8080/"
        },
        "id": "bDNX-AP7nb1k",
        "outputId": "b2aedd2f-654a-42db-f01e-14074020be6d"
      },
      "execution_count": 103,
      "outputs": [
        {
          "output_type": "stream",
          "name": "stdout",
          "text": [
            "Epoch: 0 | Loss: 0.25158044695854187\n",
            "Epoch: 50 | Loss: 0.24988184869289398\n",
            "Epoch: 100 | Loss: 0.5891695618629456\n",
            "Epoch: 150 | Loss: 0.19362381100654602\n",
            "Epoch: 200 | Loss: 0.42581307888031006\n",
            "Epoch: 250 | Loss: 0.33909210562705994\n",
            "Epoch: 300 | Loss: 0.5589013695716858\n",
            "Epoch: 350 | Loss: 0.32052165269851685\n",
            "Epoch: 400 | Loss: 0.3113812208175659\n",
            "Epoch: 450 | Loss: 0.34335973858833313\n",
            "Epoch: 500 | Loss: 0.4586380422115326\n"
          ]
        }
      ]
    },
    {
      "cell_type": "code",
      "source": [
        "plt.plot(epoch_no, loss_value, label=\"Train loss\")\n",
        "plt.plot(epoch_no, loss_value, label=\"Test loss\")\n",
        "plt.title(\"Training and test loss curves\")\n",
        "plt.ylabel(\"Loss\")\n",
        "plt.xlabel(\"Epochs\")\n",
        "plt.legend();\n",
        "     "
      ],
      "metadata": {
        "colab": {
          "base_uri": "https://localhost:8080/",
          "height": 295
        },
        "id": "BPHeaLmjqunq",
        "outputId": "672b27be-2e32-43ac-c2b3-786b531afdfd"
      },
      "execution_count": 105,
      "outputs": [
        {
          "output_type": "display_data",
          "data": {
            "text/plain": [
              "<Figure size 432x288 with 1 Axes>"
            ],
            "image/png": "[encoded data removed]"
          },
          "metadata": {
            "needs_background": "light"
          }
        }
      ]
    },
    {
      "cell_type": "code",
      "source": [
        "test_loss = []\n",
        "\n",
        "model.eval()\n",
        "for x_test in test_dataloader:\n",
        "  x_test = x_test.to(device)\n",
        "  with torch.inference_mode():\n",
        "    test_pred = model(x_test)\n",
        "    test_pred_value = test_pred.cpu().numpy()\n",
        "    \n",
        "\n",
        "    test_loss.append(test_pred_value)"
      ],
      "metadata": {
        "id": "askHEyABqx_g"
      },
      "execution_count": 106,
      "outputs": []
    },
    {
      "cell_type": "code",
      "source": [
        "final_probs = [item for sublist in test_loss for item in sublist]\n",
        "\n",
        "     \n",
        "\n",
        "result = []\n",
        "for i in range(len(final_probs)):\n",
        "  result.append(final_probs[i][0])"
      ],
      "metadata": {
        "id": "1n8uZoX5rbaQ"
      },
      "execution_count": 107,
      "outputs": []
    },
    {
      "cell_type": "code",
      "source": [
        "test = pd.read_csv('test.csv')\n",
        "results = pd.DataFrame(test.id)\n",
        "results['Attrition'] = result\n",
        "result = results.to_csv('result.csv', index=False)"
      ],
      "metadata": {
        "id": "l3TcAtS5rjyk"
      },
      "execution_count": 108,
      "outputs": []
    },
    {
      "cell_type": "code",
      "source": [
        "!kaggle competitions submit -c playground-series-s3e3 -f result.csv -m \"Pytorch\""
      ],
      "metadata": {
        "colab": {
          "base_uri": "https://localhost:8080/"
        },
        "id": "z4WaEmvgr8wG",
        "outputId": "205d3502-08c9-4e28-9076-c08bf59893ab"
      },
      "execution_count": 109,
      "outputs": [
        {
          "output_type": "stream",
          "name": "stdout",
          "text": [
            "100% 17.6k/17.6k [00:01<00:00, 14.8kB/s]\n",
            "400 - Bad Request\n"
          ]
        }
      ]
    },
    {
      "cell_type": "markdown",
      "source": [],
      "metadata": {
        "id": "5NE68AGxr8pF"
      }
    }
  ]
}